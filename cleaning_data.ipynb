{
 "cells": [
  {
   "cell_type": "code",
   "execution_count": 16,
   "metadata": {},
   "outputs": [],
   "source": [
    "import pandas as pd"
   ]
  },
  {
   "cell_type": "code",
   "execution_count": 17,
   "metadata": {},
   "outputs": [
    {
     "data": {
      "text/html": [
       "<div>\n",
       "<style scoped>\n",
       "    .dataframe tbody tr th:only-of-type {\n",
       "        vertical-align: middle;\n",
       "    }\n",
       "\n",
       "    .dataframe tbody tr th {\n",
       "        vertical-align: top;\n",
       "    }\n",
       "\n",
       "    .dataframe thead th {\n",
       "        text-align: right;\n",
       "    }\n",
       "</style>\n",
       "<table border=\"1\" class=\"dataframe\">\n",
       "  <thead>\n",
       "    <tr style=\"text-align: right;\">\n",
       "      <th></th>\n",
       "      <th>Sale Date</th>\n",
       "      <th>Buyer</th>\n",
       "      <th>Price</th>\n",
       "      <th>Coupon Code</th>\n",
       "      <th>Discount Amount</th>\n",
       "      <th>Currency</th>\n",
       "      <th>Transaction ID</th>\n",
       "      <th>Date Paid</th>\n",
       "      <th>Delivery City</th>\n",
       "      <th>Delivery State</th>\n",
       "      <th>Delivery Country</th>\n",
       "      <th>VAT Paid by Buyer</th>\n",
       "      <th>SKU</th>\n",
       "    </tr>\n",
       "  </thead>\n",
       "  <tbody>\n",
       "    <tr>\n",
       "      <th>0</th>\n",
       "      <td>2021-08-02</td>\n",
       "      <td>B11</td>\n",
       "      <td>20</td>\n",
       "      <td>NaN</td>\n",
       "      <td>0.0</td>\n",
       "      <td>USD</td>\n",
       "      <td>2222222265</td>\n",
       "      <td>2021-08-02</td>\n",
       "      <td>Penngrove</td>\n",
       "      <td>CA</td>\n",
       "      <td>United States</td>\n",
       "      <td>0.0</td>\n",
       "      <td>P001</td>\n",
       "    </tr>\n",
       "    <tr>\n",
       "      <th>1</th>\n",
       "      <td>2021-08-20</td>\n",
       "      <td>B05</td>\n",
       "      <td>20</td>\n",
       "      <td>OPENINGSALE08082021</td>\n",
       "      <td>4.0</td>\n",
       "      <td>USD</td>\n",
       "      <td>2222222133</td>\n",
       "      <td>2021-08-20</td>\n",
       "      <td>van nuys</td>\n",
       "      <td>CA</td>\n",
       "      <td>United States</td>\n",
       "      <td>0.0</td>\n",
       "      <td>P001</td>\n",
       "    </tr>\n",
       "    <tr>\n",
       "      <th>2</th>\n",
       "      <td>2021-08-20</td>\n",
       "      <td>A11</td>\n",
       "      <td>20</td>\n",
       "      <td>SALE01</td>\n",
       "      <td>4.0</td>\n",
       "      <td>USD</td>\n",
       "      <td>2222222269</td>\n",
       "      <td>2021-08-20</td>\n",
       "      <td>Penngrove</td>\n",
       "      <td>CA</td>\n",
       "      <td>United States</td>\n",
       "      <td>0.0</td>\n",
       "      <td>P001</td>\n",
       "    </tr>\n",
       "    <tr>\n",
       "      <th>3</th>\n",
       "      <td>2021-09-02</td>\n",
       "      <td>A04</td>\n",
       "      <td>20</td>\n",
       "      <td>NaN</td>\n",
       "      <td>0.0</td>\n",
       "      <td>USD</td>\n",
       "      <td>2222222129</td>\n",
       "      <td>2021-09-02</td>\n",
       "      <td>Attalla</td>\n",
       "      <td>AL</td>\n",
       "      <td>United States</td>\n",
       "      <td>0.0</td>\n",
       "      <td>P001</td>\n",
       "    </tr>\n",
       "    <tr>\n",
       "      <th>4</th>\n",
       "      <td>2021-09-08</td>\n",
       "      <td>B04</td>\n",
       "      <td>20</td>\n",
       "      <td>NaN</td>\n",
       "      <td>0.0</td>\n",
       "      <td>USD</td>\n",
       "      <td>2222222125</td>\n",
       "      <td>2021-09-08</td>\n",
       "      <td>Cainta</td>\n",
       "      <td>Metro Manila</td>\n",
       "      <td>Philippines</td>\n",
       "      <td>0.0</td>\n",
       "      <td>P001</td>\n",
       "    </tr>\n",
       "  </tbody>\n",
       "</table>\n",
       "</div>"
      ],
      "text/plain": [
       "   Sale Date Buyer  Price          Coupon Code  Discount Amount Currency  \\\n",
       "0 2021-08-02   B11     20                  NaN              0.0      USD   \n",
       "1 2021-08-20   B05     20  OPENINGSALE08082021              4.0      USD   \n",
       "2 2021-08-20   A11     20               SALE01              4.0      USD   \n",
       "3 2021-09-02   A04     20                  NaN              0.0      USD   \n",
       "4 2021-09-08   B04     20                  NaN              0.0      USD   \n",
       "\n",
       "   Transaction ID  Date Paid Delivery City Delivery State Delivery Country  \\\n",
       "0      2222222265 2021-08-02     Penngrove             CA    United States   \n",
       "1      2222222133 2021-08-20      van nuys             CA    United States   \n",
       "2      2222222269 2021-08-20     Penngrove             CA    United States   \n",
       "3      2222222129 2021-09-02       Attalla             AL    United States   \n",
       "4      2222222125 2021-09-08        Cainta   Metro Manila      Philippines   \n",
       "\n",
       "   VAT Paid by Buyer   SKU  \n",
       "0                0.0  P001  \n",
       "1                0.0  P001  \n",
       "2                0.0  P001  \n",
       "3                0.0  P001  \n",
       "4                0.0  P001  "
      ]
     },
     "execution_count": 17,
     "metadata": {},
     "output_type": "execute_result"
    }
   ],
   "source": [
    "# read the data\n",
    "df = pd.read_excel(\"./data/customer_data.xlsx\", sheet_name='Data')\n",
    "df.head()"
   ]
  },
  {
   "cell_type": "code",
   "execution_count": 18,
   "metadata": {},
   "outputs": [
    {
     "data": {
      "text/plain": [
       "Sale Date             0\n",
       "Buyer                 0\n",
       "Price                 0\n",
       "Coupon Code          55\n",
       "Discount Amount       0\n",
       "Currency              0\n",
       "Transaction ID        0\n",
       "Date Paid             0\n",
       "Delivery City         0\n",
       "Delivery State        1\n",
       "Delivery Country      0\n",
       "VAT Paid by Buyer     0\n",
       "SKU                   0\n",
       "dtype: int64"
      ]
     },
     "execution_count": 18,
     "metadata": {},
     "output_type": "execute_result"
    }
   ],
   "source": [
    "# info\n",
    "df.isnull().sum()"
   ]
  },
  {
   "cell_type": "code",
   "execution_count": 19,
   "metadata": {},
   "outputs": [
    {
     "name": "stdout",
     "output_type": "stream",
     "text": [
      "<class 'pandas.core.frame.DataFrame'>\n",
      "RangeIndex: 69 entries, 0 to 68\n",
      "Data columns (total 13 columns):\n",
      " #   Column             Non-Null Count  Dtype         \n",
      "---  ------             --------------  -----         \n",
      " 0   Sale Date          69 non-null     datetime64[ns]\n",
      " 1   Buyer              69 non-null     object        \n",
      " 2   Price              69 non-null     int64         \n",
      " 3   Coupon Code        14 non-null     object        \n",
      " 4   Discount Amount    69 non-null     float64       \n",
      " 5   Currency           69 non-null     object        \n",
      " 6   Transaction ID     69 non-null     int64         \n",
      " 7   Date Paid          69 non-null     datetime64[ns]\n",
      " 8   Delivery City      69 non-null     object        \n",
      " 9   Delivery State     68 non-null     object        \n",
      " 10  Delivery Country   69 non-null     object        \n",
      " 11  VAT Paid by Buyer  69 non-null     float64       \n",
      " 12  SKU                69 non-null     object        \n",
      "dtypes: datetime64[ns](2), float64(2), int64(2), object(7)\n",
      "memory usage: 7.1+ KB\n"
     ]
    }
   ],
   "source": [
    "df.info()"
   ]
  },
  {
   "cell_type": "code",
   "execution_count": 20,
   "metadata": {},
   "outputs": [
    {
     "data": {
      "text/plain": [
       "Sale Date            0\n",
       "Buyer                0\n",
       "Price                0\n",
       "Coupon Code          0\n",
       "Discount Amount      0\n",
       "Currency             0\n",
       "Transaction ID       0\n",
       "Date Paid            0\n",
       "Delivery City        0\n",
       "Delivery State       0\n",
       "Delivery Country     0\n",
       "VAT Paid by Buyer    0\n",
       "SKU                  0\n",
       "dtype: int64"
      ]
     },
     "execution_count": 20,
     "metadata": {},
     "output_type": "execute_result"
    }
   ],
   "source": [
    "# fill na with the mosst appears dat\n",
    "df['Coupon Code'] = df['Coupon Code'].fillna(df['Coupon Code'].mode()[0])\n",
    "df['Delivery State'] = df['Delivery State'].fillna(df['Delivery State'].mode()[0])\n",
    "# check agai\n",
    "df.isnull().sum()"
   ]
  },
  {
   "cell_type": "code",
   "execution_count": 21,
   "metadata": {},
   "outputs": [],
   "source": [
    "# save the data\n",
    "df.to_excel(\"./data/cleaned_data.xlsx\")"
   ]
  }
 ],
 "metadata": {
  "kernelspec": {
   "display_name": "Python 3",
   "language": "python",
   "name": "python3"
  },
  "language_info": {
   "codemirror_mode": {
    "name": "ipython",
    "version": 3
   },
   "file_extension": ".py",
   "mimetype": "text/x-python",
   "name": "python",
   "nbconvert_exporter": "python",
   "pygments_lexer": "ipython3",
   "version": "3.11.2"
  }
 },
 "nbformat": 4,
 "nbformat_minor": 2
}
